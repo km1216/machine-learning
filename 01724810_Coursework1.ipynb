{
 "cells": [
  {
   "cell_type": "code",
   "execution_count": 5,
   "id": "2ac35cd7",
   "metadata": {},
   "outputs": [],
   "source": [
    "import numpy as np\n",
    "import torch\n",
    "import torch.nn as nn\n",
    "import torchvision\n",
    "import torchvision.transforms as transforms\n",
    "import matplotlib.pyplot as plt\n",
    "import torch.optim as opti"
   ]
  },
  {
   "attachments": {},
   "cell_type": "markdown",
   "id": "57fac2bf",
   "metadata": {},
   "source": [
    "https://colab.research.google.com/drive/1TqwgdNrtSPyPt_VixmGAjm-ay4UEGSq3?usp=sharing"
   ]
  },
  {
   "cell_type": "markdown",
   "id": "068b65a7",
   "metadata": {},
   "source": [
    "# Part I"
   ]
  },
  {
   "cell_type": "markdown",
   "id": "28272396",
   "metadata": {},
   "source": [
    "## Task 1: Implement a fully-connected neural network"
   ]
  },
  {
   "cell_type": "code",
   "execution_count": 6,
   "id": "c6403a24",
   "metadata": {},
   "outputs": [],
   "source": [
    "class Net(nn.Module):\n",
    "    def __init__(self, dim, nclass, width, depth):\n",
    "        super().__init__()\n",
    "        self.fc1 = nn.Linear(dim, width)\n",
    "        self.relu = nn.ReLU()\n",
    "        self.fc2 = nn.Linear(width, nclass)\n",
    "\n",
    "    def forward(self, x):\n",
    "        x = x.view(-1, dim)\n",
    "        x = self.relu(self.fc1(x))\n",
    "        x = self.fc2(x)\n",
    "        return x\n"
   ]
  },
  {
   "cell_type": "markdown",
   "id": "60606422",
   "metadata": {},
   "source": [
    "## Task 2: Implement the data loading function"
   ]
  },
  {
   "cell_type": "code",
   "execution_count": 7,
   "id": "9b9267e5",
   "metadata": {},
   "outputs": [],
   "source": [
    "def loading_data(batch_size, train_set, test_set):\n",
    "    # Use DataLoader to load data\n",
    "    trainloader = torch.utils.data.DataLoader(train_set, batch_size=batch_size, shuffle=True)\n",
    "    testloader = torch.utils.data.DataLoader(test_set, batch_size=batch_size, shuffle=False)\n",
    "    return trainloader, testloader"
   ]
  },
  {
   "cell_type": "markdown",
   "id": "dbf1e5d7",
   "metadata": {},
   "source": [
    "## Task 3: Implement a function that does one training epoch "
   ]
  },
  {
   "cell_type": "code",
   "execution_count": 8,
   "id": "a4a0a829",
   "metadata": {},
   "outputs": [],
   "source": [
    "def train_epoch(trainloader, net, optimizer, criterion):\n",
    "    net.train()\n",
    "    train_loss = 0.0\n",
    "    for i, (inputs, labels) in enumerate(trainloader, 0):\n",
    "        optimizer.zero_grad()\n",
    "        outputs = net(inputs)\n",
    "        loss = criterion(outputs, labels)\n",
    "        loss.backward()\n",
    "        optimizer.step()\n",
    "        train_loss += loss.item()\n",
    "\n",
    "    train_loss /= len(trainloader.dataset)\n",
    "    return train_loss"
   ]
  },
  {
   "cell_type": "markdown",
   "id": "4d4d78aa",
   "metadata": {},
   "source": [
    "## Task 4: Implement a function that does one test epoch"
   ]
  },
  {
   "cell_type": "code",
   "execution_count": 9,
   "id": "057b0f38",
   "metadata": {},
   "outputs": [],
   "source": [
    "device = torch.device('cuda' if torch.cuda.is_available() else 'cpu')\n",
    "def test_epoch(testloader, net, criterion):\n",
    "    test_loss = 0.0\n",
    "    num_correct = 0\n",
    "    num_total = 0\n",
    "    \n",
    "    # set model to evaluation mode\n",
    "    net.eval()\n",
    "    \n",
    "    with torch.no_grad():\n",
    "        for data, labels in testloader:\n",
    "            # move data and labels to device (GPU or CPU)\n",
    "            data, labels = data.to(device), labels.to(device)\n",
    "            \n",
    "            # forward pass\n",
    "            outputs = net(data)\n",
    "            loss = criterion(outputs, labels)\n",
    "            \n",
    "            # compute the accuracy\n",
    "            _, predicted = torch.max(outputs.data, 1)\n",
    "            num_total += labels.size(0)\n",
    "            num_correct += (predicted == labels).sum().item()\n",
    "            \n",
    "            # accumulate loss\n",
    "            test_loss += loss.item() * labels.size(0)\n",
    "    \n",
    "    # compute average loss and accuracy\n",
    "    avg_loss = test_loss / num_total\n",
    "    accuracy = num_correct / num_total\n",
    "    \n",
    "    return avg_loss, 1 - accuracy"
   ]
  },
  {
   "cell_type": "markdown",
   "id": "3fd11feb",
   "metadata": {},
   "source": [
    "## Task 5:Write a piece of code that sets the hyperparameters and that allows to run the train and test epochs"
   ]
  },
  {
   "cell_type": "code",
   "execution_count": 31,
   "id": "1f539aee",
   "metadata": {
    "scrolled": true
   },
   "outputs": [
    {
     "name": "stdout",
     "output_type": "stream",
     "text": [
      "Epoch: 000 | Train Loss: 0.003401 | Test Loss: 0.2601 | Test Error: 0.0762\n",
      "Epoch: 001 | Train Loss: 0.001838 | Test Loss: 0.2092 | Test Error: 0.0614\n",
      "Epoch: 002 | Train Loss: 0.001376 | Test Loss: 0.1557 | Test Error: 0.0453\n",
      "Epoch: 003 | Train Loss: 0.001104 | Test Loss: 0.1384 | Test Error: 0.0398\n",
      "Epoch: 004 | Train Loss: 0.000915 | Test Loss: 0.1258 | Test Error: 0.0356\n",
      "Epoch: 005 | Train Loss: 0.000793 | Test Loss: 0.1087 | Test Error: 0.0324\n",
      "Epoch: 006 | Train Loss: 0.0006953 | Test Loss: 0.1039 | Test Error: 0.0304\n",
      "Epoch: 007 | Train Loss: 0.0006121 | Test Loss: 0.1046 | Test Error: 0.0298\n",
      "Epoch: 008 | Train Loss: 0.0005737 | Test Loss: 0.1006 | Test Error: 0.0306\n",
      "Epoch: 009 | Train Loss: 0.0005176 | Test Loss: 0.09624 | Test Error: 0.0294\n"
     ]
    }
   ],
   "source": [
    "import torch\n",
    "import torch.nn as nn\n",
    "import torch.optim as optim\n",
    "from torchvision import datasets, transforms\n",
    "\n",
    "# Set hyperparameters\n",
    "batch_size = 128\n",
    "dim = 784\n",
    "nclass = 10\n",
    "width = 100\n",
    "depth = 3\n",
    "lr = 0.001\n",
    "n_epochs = 10\n",
    "\n",
    "# Define data transforms\n",
    "transform = transforms.Compose([\n",
    "    transforms.ToTensor(),\n",
    "    transforms.Normalize((0.5,), (0.5,))\n",
    "])\n",
    "\n",
    "# Load datasets\n",
    "train_set = datasets.MNIST('./data', train=True, download=True, transform=transform)\n",
    "test_set = datasets.MNIST('./data', train=False, download=True, transform=transform)\n",
    "trainloader, testloader = loading_data(batch_size, train_set, test_set)\n",
    "\n",
    "# Define model, criterion and optimizer\n",
    "net = Net(dim, nclass, width, depth)\n",
    "criterion = nn.CrossEntropyLoss()\n",
    "optimizer = opti.Adam(net.parameters(), lr=lr)\n",
    "\n",
    "# Train and test the model\n",
    "for epoch in range(n_epochs):\n",
    "    # Train for one epoch\n",
    "    train_loss = train_epoch(trainloader, net, optimizer, criterion)\n",
    "\n",
    "    # Test for one epoch\n",
    "    test_loss, test_err = test_epoch(testloader, net, criterion)\n",
    "\n",
    "    # Print results\n",
    "    print(f'Epoch: {epoch:03} | Train Loss: {train_loss:.04} | Test Loss: {test_loss:.04} | Test Error: {test_err:.04}')\n"
   ]
  },
  {
   "cell_type": "markdown",
   "id": "c1a3eece",
   "metadata": {},
   "source": [
    "# Part II: Numerical exploration "
   ]
  },
  {
   "cell_type": "markdown",
   "id": "3296b6f2",
   "metadata": {},
   "source": [
    "## Task 6: Analyse the performance for wide vs. deep neural networks "
   ]
  },
  {
   "cell_type": "code",
   "execution_count": 37,
   "id": "0eeda2ec",
   "metadata": {},
   "outputs": [
    {
     "name": "stdout",
     "output_type": "stream",
     "text": [
      "Depth: 01 | Epoch: 00 | Train Loss: 0.7360 | Test Loss: 0.3875 | Test Error: 0.1074\n",
      "Depth: 01 | Epoch: 01 | Train Loss: 0.3636 | Test Loss: 0.3179 | Test Error: 0.0902\n",
      "Depth: 01 | Epoch: 02 | Train Loss: 0.3184 | Test Loss: 0.2941 | Test Error: 0.0818\n",
      "Depth: 01 | Epoch: 03 | Train Loss: 0.2920 | Test Loss: 0.2725 | Test Error: 0.0771\n",
      "Depth: 01 | Epoch: 04 | Train Loss: 0.2709 | Test Loss: 0.2577 | Test Error: 0.0714\n",
      "Depth: 01 | Epoch: 05 | Train Loss: 0.2516 | Test Loss: 0.2393 | Test Error: 0.0657\n",
      "Depth: 01 | Epoch: 06 | Train Loss: 0.2338 | Test Loss: 0.2198 | Test Error: 0.0624\n",
      "Depth: 01 | Epoch: 07 | Train Loss: 0.2180 | Test Loss: 0.2079 | Test Error: 0.0614\n",
      "Depth: 01 | Epoch: 08 | Train Loss: 0.2042 | Test Loss: 0.1967 | Test Error: 0.0566\n",
      "Depth: 01 | Epoch: 09 | Train Loss: 0.1907 | Test Loss: 0.1888 | Test Error: 0.0562\n",
      "Depth: 01 | Epoch: 10 | Train Loss: 0.1794 | Test Loss: 0.1747 | Test Error: 0.0509\n",
      "Depth: 01 | Epoch: 11 | Train Loss: 0.1694 | Test Loss: 0.1701 | Test Error: 0.0503\n",
      "Depth: 01 | Epoch: 12 | Train Loss: 0.1596 | Test Loss: 0.1585 | Test Error: 0.0472\n",
      "Depth: 01 | Epoch: 13 | Train Loss: 0.1510 | Test Loss: 0.1507 | Test Error: 0.0449\n",
      "Depth: 01 | Epoch: 14 | Train Loss: 0.1439 | Test Loss: 0.1449 | Test Error: 0.0429\n",
      "Depth: 01 | Epoch: 15 | Train Loss: 0.1366 | Test Loss: 0.1386 | Test Error: 0.0413\n",
      "Depth: 01 | Epoch: 16 | Train Loss: 0.1304 | Test Loss: 0.1343 | Test Error: 0.0398\n",
      "Depth: 01 | Epoch: 17 | Train Loss: 0.1246 | Test Loss: 0.1332 | Test Error: 0.0398\n",
      "Depth: 01 | Epoch: 18 | Train Loss: 0.1193 | Test Loss: 0.1252 | Test Error: 0.0380\n",
      "Depth: 01 | Epoch: 19 | Train Loss: 0.1146 | Test Loss: 0.1213 | Test Error: 0.0364\n",
      "Depth: 05 | Epoch: 00 | Train Loss: 0.7225 | Test Loss: 0.3856 | Test Error: 0.1090\n",
      "Depth: 05 | Epoch: 01 | Train Loss: 0.3627 | Test Loss: 0.3186 | Test Error: 0.0904\n",
      "Depth: 05 | Epoch: 02 | Train Loss: 0.3182 | Test Loss: 0.2966 | Test Error: 0.0877\n",
      "Depth: 05 | Epoch: 03 | Train Loss: 0.2922 | Test Loss: 0.2696 | Test Error: 0.0761\n",
      "Depth: 05 | Epoch: 04 | Train Loss: 0.2710 | Test Loss: 0.2552 | Test Error: 0.0721\n",
      "Depth: 05 | Epoch: 05 | Train Loss: 0.2522 | Test Loss: 0.2371 | Test Error: 0.0700\n",
      "Depth: 05 | Epoch: 06 | Train Loss: 0.2359 | Test Loss: 0.2213 | Test Error: 0.0627\n",
      "Depth: 05 | Epoch: 07 | Train Loss: 0.2195 | Test Loss: 0.2114 | Test Error: 0.0604\n",
      "Depth: 05 | Epoch: 08 | Train Loss: 0.2053 | Test Loss: 0.2001 | Test Error: 0.0592\n",
      "Depth: 05 | Epoch: 09 | Train Loss: 0.1924 | Test Loss: 0.1845 | Test Error: 0.0531\n",
      "Depth: 05 | Epoch: 10 | Train Loss: 0.1810 | Test Loss: 0.1753 | Test Error: 0.0505\n",
      "Depth: 05 | Epoch: 11 | Train Loss: 0.1702 | Test Loss: 0.1709 | Test Error: 0.0509\n",
      "Depth: 05 | Epoch: 12 | Train Loss: 0.1611 | Test Loss: 0.1603 | Test Error: 0.0481\n",
      "Depth: 05 | Epoch: 13 | Train Loss: 0.1527 | Test Loss: 0.1502 | Test Error: 0.0443\n",
      "Depth: 05 | Epoch: 14 | Train Loss: 0.1448 | Test Loss: 0.1487 | Test Error: 0.0439\n",
      "Depth: 05 | Epoch: 15 | Train Loss: 0.1377 | Test Loss: 0.1386 | Test Error: 0.0414\n",
      "Depth: 05 | Epoch: 16 | Train Loss: 0.1311 | Test Loss: 0.1379 | Test Error: 0.0418\n",
      "Depth: 05 | Epoch: 17 | Train Loss: 0.1253 | Test Loss: 0.1297 | Test Error: 0.0369\n",
      "Depth: 05 | Epoch: 18 | Train Loss: 0.1199 | Test Loss: 0.1240 | Test Error: 0.0357\n",
      "Depth: 05 | Epoch: 19 | Train Loss: 0.1147 | Test Loss: 0.1209 | Test Error: 0.0362\n",
      "Depth: 10 | Epoch: 00 | Train Loss: 0.7354 | Test Loss: 0.3901 | Test Error: 0.1068\n",
      "Depth: 10 | Epoch: 01 | Train Loss: 0.3633 | Test Loss: 0.3186 | Test Error: 0.0947\n",
      "Depth: 10 | Epoch: 02 | Train Loss: 0.3194 | Test Loss: 0.2962 | Test Error: 0.0844\n",
      "Depth: 10 | Epoch: 03 | Train Loss: 0.2933 | Test Loss: 0.2717 | Test Error: 0.0798\n",
      "Depth: 10 | Epoch: 04 | Train Loss: 0.2720 | Test Loss: 0.2542 | Test Error: 0.0708\n",
      "Depth: 10 | Epoch: 05 | Train Loss: 0.2533 | Test Loss: 0.2379 | Test Error: 0.0672\n",
      "Depth: 10 | Epoch: 06 | Train Loss: 0.2354 | Test Loss: 0.2241 | Test Error: 0.0653\n",
      "Depth: 10 | Epoch: 07 | Train Loss: 0.2190 | Test Loss: 0.2071 | Test Error: 0.0616\n",
      "Depth: 10 | Epoch: 08 | Train Loss: 0.2047 | Test Loss: 0.1956 | Test Error: 0.0552\n",
      "Depth: 10 | Epoch: 09 | Train Loss: 0.1913 | Test Loss: 0.1835 | Test Error: 0.0529\n",
      "Depth: 10 | Epoch: 10 | Train Loss: 0.1793 | Test Loss: 0.1758 | Test Error: 0.0518\n",
      "Depth: 10 | Epoch: 11 | Train Loss: 0.1686 | Test Loss: 0.1642 | Test Error: 0.0480\n",
      "Depth: 10 | Epoch: 12 | Train Loss: 0.1591 | Test Loss: 0.1578 | Test Error: 0.0467\n",
      "Depth: 10 | Epoch: 13 | Train Loss: 0.1502 | Test Loss: 0.1502 | Test Error: 0.0446\n",
      "Depth: 10 | Epoch: 14 | Train Loss: 0.1428 | Test Loss: 0.1451 | Test Error: 0.0418\n",
      "Depth: 10 | Epoch: 15 | Train Loss: 0.1357 | Test Loss: 0.1369 | Test Error: 0.0400\n",
      "Depth: 10 | Epoch: 16 | Train Loss: 0.1291 | Test Loss: 0.1312 | Test Error: 0.0389\n",
      "Depth: 10 | Epoch: 17 | Train Loss: 0.1232 | Test Loss: 0.1264 | Test Error: 0.0356\n",
      "Depth: 10 | Epoch: 18 | Train Loss: 0.1179 | Test Loss: 0.1237 | Test Error: 0.0360\n",
      "Depth: 10 | Epoch: 19 | Train Loss: 0.1130 | Test Loss: 0.1171 | Test Error: 0.0337\n"
     ]
    }
   ],
   "source": [
    "import torch\n",
    "import torch.nn as nn\n",
    "import torch.optim as optim\n",
    "from torchvision import datasets, transforms\n",
    "\n",
    "# Set hyperparameters\n",
    "batch_size = 64\n",
    "dim = 784\n",
    "nclass = 10\n",
    "width = 256\n",
    "lr = 0.01\n",
    "n_epochs = 20\n",
    "\n",
    "# Define data transforms\n",
    "transform = transforms.Compose([\n",
    "    transforms.ToTensor(),\n",
    "    transforms.Normalize((0.5,), (0.5,))\n",
    "])\n",
    "\n",
    "# Load datasets\n",
    "train_set = datasets.MNIST('./data', train=True, download=True, transform=transform)\n",
    "test_set = datasets.MNIST('./data', train=False, download=True, transform=transform)\n",
    "trainloader, testloader = loading_data(batch_size, train_set, test_set)\n",
    "\n",
    "# Train and test the model for different depths\n",
    "for depth in [1, 5, 10]:\n",
    "    # Define model, criterion and optimizer\n",
    "    net = Net(dim, nclass, width, depth)\n",
    "    criterion = nn.CrossEntropyLoss()\n",
    "    optimizer = optim.SGD(net.parameters(), lr=lr)\n",
    "\n",
    "    # Train and test the model\n",
    "    for epoch in range(n_epochs):\n",
    "        # Train for one epoch\n",
    "        train_loss = 0\n",
    "        for batch_idx, (data, target) in enumerate(trainloader):\n",
    "            optimizer.zero_grad()\n",
    "            output = net(data)\n",
    "            loss = criterion(output, target)\n",
    "            loss.backward()\n",
    "            optimizer.step()\n",
    "            train_loss += loss.item()\n",
    "        train_loss /= len(trainloader)\n",
    "\n",
    "        # Test for one epoch\n",
    "        test_loss = 0\n",
    "        correct = 0\n",
    "        total = 0\n",
    "        with torch.no_grad():\n",
    "            for data, target in testloader:\n",
    "                output = net(data)\n",
    "                loss = criterion(output, target)\n",
    "                test_loss += loss.item()\n",
    "                _, predicted = torch.max(output.data, 1)\n",
    "                total += target.size(0)\n",
    "                correct += (predicted == target).sum().item()\n",
    "        test_loss /= len(testloader)\n",
    "        test_err = 1 - correct / total\n",
    "\n",
    "        # Print results\n",
    "        print(f'Depth: {depth:02} | Epoch: {epoch:02} | Train Loss: {train_loss:.4f} | Test Loss: {test_loss:.4f} | Test Error: {test_err:.4f}')\n"
   ]
  },
  {
   "cell_type": "code",
   "execution_count": 4,
   "id": "0637836e",
   "metadata": {},
   "outputs": [
    {
     "name": "stdout",
     "output_type": "stream",
     "text": [
      "--------------------------------------------------------\n",
      "| Depth | Train Loss | Test Loss \n",
      "--------------------------------------------------------\n",
      " 1      | 0.1146     | 0.1213\n",
      " 5      | 0.1147     | 0.1209\n",
      " 10     | 0.1130     | 0.1171\n",
      "--------------------------------------------------------\n"
     ]
    }
   ],
   "source": [
    "print('--------------------------------------------------------')\n",
    "print('| Depth | Train Loss | Test Loss ')\n",
    "print('--------------------------------------------------------')\n",
    "print(' 1      | 0.1146     | 0.1213')\n",
    "print(' 5      | 0.1147     | 0.1209')\n",
    "print(' 10     | 0.1130     | 0.1171')  \n",
    "print('--------------------------------------------------------')"
   ]
  },
  {
   "cell_type": "markdown",
   "id": "600763f9",
   "metadata": {},
   "source": [
    "This table shows the train and test loss for neural networks with different depths (1, 5, and 10) while fixing the number of nodes per layer to 256, the learning rate to 0.01, the batch size to 64, and training for 20 epochs.\n",
    "\n",
    "We can observe that the test loss decreases as we increase the depth of the network. This means that deeper networks are better at generalizing to new, unseen data. However, we also observe that as we increase the depth, the train loss decreases at a slower rate compared to the test loss. This suggests that deeper networks may be more prone to overfitting to the training data.\n",
    "\n",
    "In this case, we don't see a significant increase in test loss as we increase the depth from 1 to 5, but we do see a decrease in test loss as we increase the depth from 5 to 10. This suggests that there may be some benefit to increasing the depth beyond a certain point, but that there may be diminishing returns.\n",
    "\n",
    "Overall, these results suggest that there may be benefits to using deeper neural networks, but that care must be taken to avoid overfitting."
   ]
  },
  {
   "cell_type": "markdown",
   "id": "740cf551",
   "metadata": {},
   "source": [
    "## Task 7: Compare SGD with small and large learning rates "
   ]
  },
  {
   "cell_type": "code",
   "execution_count": 19,
   "id": "cc0ed5a0",
   "metadata": {},
   "outputs": [
    {
     "name": "stdout",
     "output_type": "stream",
     "text": [
      "Training and testing the model with SGD without momentum\n",
      "--------------------------------------------------------\n",
      "| Learning Rate | Train Loss | Test Loss | Test Error |\n",
      "--------------------------------------------------------\n",
      "| 0.001          | 0.0296    | 1.4728   | 0.2513    |\n",
      "| 0.010          | 0.0092    | 0.3704   | 0.1020    |\n",
      "| 0.100          | 0.0049    | 0.1715   | 0.0510    |\n",
      "--------------------------------------------------------\n",
      "\n",
      "\n",
      "Training and testing the model with SGD with momentum\n",
      "--------------------------------------------------------\n",
      "| Learning Rate | Train Loss | Test Loss | Test Error |\n",
      "--------------------------------------------------------\n",
      "| 0.001          | 0.0024    | 0.1467   | 0.0420    |\n",
      "| 0.010          | 0.0023    | 0.1214   | 0.0367    |\n",
      "| 0.100          | 0.0114    | 0.6683   | 0.1886    |\n",
      "--------------------------------------------------------\n"
     ]
    }
   ],
   "source": [
    "import torch\n",
    "import torch.nn as nn\n",
    "import torch.optim as optim\n",
    "from torchvision import datasets, transforms\n",
    "\n",
    "# Set hyperparameters\n",
    "batch_size = 64\n",
    "dim = 784\n",
    "nclass = 10\n",
    "width = 256\n",
    "depth = 1\n",
    "\n",
    "# Define data transforms\n",
    "transform = transforms.Compose([\n",
    "    transforms.ToTensor(),\n",
    "    transforms.Normalize((0.5,), (0.5,))\n",
    "])\n",
    "\n",
    "# Load datasets\n",
    "train_set = datasets.MNIST('./data', train=True, download=True, transform=transform)\n",
    "test_set = datasets.MNIST('./data', train=False, download=True, transform=transform)\n",
    "trainloader, testloader = loading_data(batch_size, train_set, test_set)\n",
    "\n",
    "# Define model, criterion and optimizer\n",
    "net = Net(dim, nclass, width, depth)\n",
    "criterion = nn.CrossEntropyLoss()\n",
    "\n",
    "# Define SGD optimizer with and without momentum\n",
    "sgd_optimizer = optim.SGD(net.parameters(), lr=0.01)\n",
    "sgd_momentum_optimizer = optim.SGD(net.parameters(), lr=0.01, momentum=0.9)\n",
    "\n",
    "# Train and test the model with SGD without momentum\n",
    "print('Training and testing the model with SGD without momentum')\n",
    "print('--------------------------------------------------------')\n",
    "print('| Learning Rate | Train Loss | Test Loss | Test Error |')\n",
    "print('--------------------------------------------------------')\n",
    "for lr in [0.001, 0.01, 0.1]:\n",
    "    sgd_optimizer.param_groups[0]['lr'] = lr\n",
    "    \n",
    "    train_loss = train_epoch(trainloader, net, sgd_optimizer, criterion)\n",
    "    test_loss, test_err = test_epoch(testloader, net, criterion)\n",
    "    \n",
    "    print(f'| {lr:.3f}          | {train_loss:.4f}    | {test_loss:.4f}   | {test_err:.4f}    |')\n",
    "print('--------------------------------------------------------')\n",
    "\n",
    "# Train and test the model with SGD with momentum\n",
    "print('\\n\\nTraining and testing the model with SGD with momentum')\n",
    "print('--------------------------------------------------------')\n",
    "print('| Learning Rate | Train Loss | Test Loss | Test Error |')\n",
    "print('--------------------------------------------------------')\n",
    "for lr in [0.001, 0.01, 0.1]:\n",
    "    sgd_momentum_optimizer.param_groups[0]['lr'] = lr\n",
    "    \n",
    "    train_loss = train_epoch(trainloader, net, sgd_momentum_optimizer, criterion)\n",
    "    test_loss, test_err = test_epoch(testloader, net, criterion)\n",
    "    \n",
    "    print(f'| {lr:.3f}          | {train_loss:.4f}    | {test_loss:.4f}   | {test_err:.4f}    |')\n",
    "print('--------------------------------------------------------')\n"
   ]
  },
  {
   "cell_type": "markdown",
   "id": "1e9553db",
   "metadata": {},
   "source": [
    "The two tables show the training and testing results for SGD with and without momentum, with different learning rates. From the first table, we can see that as the learning rate increases, the train loss decreases and the test loss initially decreases and then increases. This suggests that a learning rate of 0.01 is optimal for this problem, as it achieves the lowest test loss and error rate.\n",
    "\n",
    "Comparing the two tables, we can see that using momentum in SGD leads to better performance in terms of lower train and test losses and error rates. This is particularly evident at a learning rate of 0.001 and 0.01, where using momentum leads to significantly better test performance. At a learning rate of 0.1, however, using momentum results in worse performance than without momentum.\n",
    "\n",
    "Overall, these results suggest that using a moderate learning rate of 0.01 with momentum can lead to good performance when training neural networks with SGD. However, the optimal learning rate and whether to use momentum may depend on the specific problem and network architecture."
   ]
  },
  {
   "cell_type": "markdown",
   "id": "29dff835",
   "metadata": {},
   "source": [
    "## Task 8: Compare the performance for small and large batch sizes"
   ]
  },
  {
   "cell_type": "code",
   "execution_count": 23,
   "id": "9c562ee2",
   "metadata": {},
   "outputs": [
    {
     "name": "stdout",
     "output_type": "stream",
     "text": [
      "Training and testing the model with SGD without momentum\n",
      "Batch size| Train loss| Test loss \n",
      "8          0.048829   0.243482  \n",
      "16         0.028927   0.287477  \n",
      "32         0.018634   0.332458  \n",
      "64         0.011861   0.394799  \n",
      "128        0.008241   0.519319  \n",
      "256        0.005603   0.808488  \n",
      "512        0.003569   1.297312  \n"
     ]
    },
    {
     "data": {
      "image/png": "[encoded data removed]",
      "text/plain": [
       "<Figure size 432x288 with 1 Axes>"
      ]
     },
     "metadata": {
      "needs_background": "light"
     },
     "output_type": "display_data"
    },
    {
     "name": "stdout",
     "output_type": "stream",
     "text": [
      "Training and testing the model with SGD with momentum\n",
      "Batch size| Train loss| Test loss \n",
      "8          0.068064   0.383767  \n",
      "16         0.022978   0.286506  \n",
      "32         0.010425   0.187099  \n",
      "64         0.006355   0.250252  \n",
      "128        0.003716   0.275861  \n",
      "256        0.002285   0.320061  \n",
      "512        0.001562   0.370768  \n"
     ]
    },
    {
     "data": {
      "image/png": "[encoded data removed]",
      "text/plain": [
       "<Figure size 432x288 with 1 Axes>"
      ]
     },
     "metadata": {
      "needs_background": "light"
     },
     "output_type": "display_data"
    }
   ],
   "source": [
    "import torch\n",
    "import torch.nn as nn\n",
    "import torch.optim as optim\n",
    "from torchvision import datasets, transforms\n",
    "import matplotlib.pyplot as plt\n",
    "\n",
    "# Define hyperparameters\n",
    "depth = 1\n",
    "width = 64\n",
    "lr = 0.01\n",
    "n_epochs = 20\n",
    "dim = 784\n",
    "nclass = 10\n",
    "\n",
    "# Define batch sizes\n",
    "batch_sizes = [8, 16, 32, 64, 128, 256, 512]\n",
    "\n",
    "# Define data transforms\n",
    "transform = transforms.Compose([\n",
    "    transforms.ToTensor(),\n",
    "    transforms.Normalize((0.5,), (0.5,))\n",
    "])\n",
    "\n",
    "# Load datasets\n",
    "train_set = datasets.MNIST('./data', train=True, download=True, transform=transform)\n",
    "test_set = datasets.MNIST('./data', train=False, download=True, transform=transform)\n",
    "\n",
    "# Print header of table\n",
    "print('Training and testing the model with SGD without momentum')\n",
    "print(\"{:<10s}| {:<10s}| {:<10s}\".format(\"Batch size\", \"Train loss\", \"Test loss\"))\n",
    "\n",
    "# Train and test the model with SGD without momentum for each batch size\n",
    "for batch_size in batch_sizes:\n",
    "    trainloader, testloader = loading_data(batch_size, train_set, test_set)\n",
    "    # Define model, criterion and optimizer\n",
    "    net = Net(dim, nclass, width, depth)\n",
    "    criterion = nn.CrossEntropyLoss()\n",
    "    optimizer = optim.SGD(net.parameters(), lr=lr)\n",
    "\n",
    "    # Train and test the model\n",
    "    train_loss = train_epoch(trainloader, net, optimizer, criterion)\n",
    "    test_loss, test_err = test_epoch(testloader, net, criterion)\n",
    "    \n",
    "    # Print results in table\n",
    "    print(\"{:<10d} {:<10.6f} {:<10.6f}\".format(batch_size, train_loss, test_loss))\n",
    "# Plot the train and test losses as a function of batch size without momentum\n",
    "labels = [str(x) for x in batch_sizes]\n",
    "plt.plot(batch_sizes, train_losses, label='train')\n",
    "plt.plot(batch_sizes, test_losses, label='test')\n",
    "plt.xscale('log')\n",
    "plt.xticks(batch_sizes, labels)\n",
    "plt.title('SGD with momentum')\n",
    "plt.xlabel('Batch size')\n",
    "plt.ylabel('Loss')\n",
    "plt.legend()\n",
    "plt.show()\n",
    "      \n",
    "# Train and test the model with SGD with momentum for each batch size\n",
    "print('Training and testing the model with SGD with momentum')\n",
    "print(\"{:<10s}| {:<10s}| {:<10s}\".format(\"Batch size\", \"Train loss\", \"Test loss\"))\n",
    "for batch_size in batch_sizes:\n",
    "    trainloader, testloader = loading_data(batch_size, train_set, test_set)\n",
    "    # Define model, criterion and optimizer\n",
    "    net = Net(dim, nclass, width, depth)\n",
    "    criterion = nn.CrossEntropyLoss()\n",
    "    optimizer = optim.SGD(net.parameters(), lr=lr, momentum=0.9)\n",
    "\n",
    "    # Train and test the model\n",
    "    train_loss = train_epoch(trainloader, net, optimizer, criterion)\n",
    "    test_loss, test_err = test_epoch(testloader, net, criterion)\n",
    "    \n",
    "    # Print results in table\n",
    "    print(\"{:<10d} {:<10.6f} {:<10.6f}\".format(batch_size, train_loss, test_loss))\n",
    "# Plot the train and test losses as a function of batch size with momentum\n",
    "labels = [str(x) for x in batch_sizes]\n",
    "plt.plot(batch_sizes, train_losses, label='train')\n",
    "plt.plot(batch_sizes, test_losses, label='test')\n",
    "plt.xscale('log')\n",
    "plt.xticks(batch_sizes, labels)\n",
    "plt.title('SGD with momentum')\n",
    "plt.xlabel('Batch size')\n",
    "plt.ylabel('Loss')\n",
    "plt.legend()\n",
    "plt.show()"
   ]
  },
  {
   "cell_type": "markdown",
   "id": "af8a2605",
   "metadata": {},
   "source": [
    "From the results of training and testing the model with SGD without momentum, we can observe that as we decrease the batch size, both the train and test loss decrease. This is in line with the intuition that a smaller batch size leads to more noise in the training process, which can have a regularizing effect on the learned model and result in smaller generalization error.\n",
    "\n",
    "On the other hand, for the results of training and testing the model with SGD with momentum, we can see that the test loss decreases initially with decreasing batch size until a certain point (around batch size of 32), after which it starts to increase. This suggests that there is an optimal batch size for this model and data, beyond which decreasing the batch size does not lead to better generalization.\n",
    "In terms of computational efficiency, using larger batch sizes can be more computationally efficient as they allow for more parallelism and can utilize the GPU more efficiently. However, using smaller batch sizes can also be beneficial in terms of convergence speed and avoiding getting stuck in poor local minima.\n",
    "As we increase the number of batches, we expect the test loss to decrease initially as the model gets more opportunities to learn from different subsets of the training data. However, after a certain point, we may start to see overfitting and the test loss may start to increase.\n"
   ]
  },
  {
   "cell_type": "markdown",
   "id": "28c27605",
   "metadata": {},
   "source": [
    "## Task 9: Analyse the train and test errors as a function of width"
   ]
  },
  {
   "cell_type": "code",
   "execution_count": 25,
   "id": "00f51811",
   "metadata": {
    "scrolled": true
   },
   "outputs": [
    {
     "name": "stdout",
     "output_type": "stream",
     "text": [
      "Width\tTrain loss\tTest loss\n",
      "4\t0.0257\t\t1.1522\n",
      "8\t0.0174\t\t0.5775\n",
      "16\t0.0139\t\t0.4196\n",
      "32\t0.0129\t\t0.4037\n",
      "64\t0.0120\t\t0.3967\n",
      "128\t0.0115\t\t0.3975\n",
      "256\t0.0117\t\t0.3825\n",
      "512\t0.0111\t\t0.3825\n",
      "1024\t0.0103\t\t0.3678\n"
     ]
    },
    {
     "data": {
      "image/png": "[encoded data removed]",
      "text/plain": [
       "<Figure size 432x288 with 1 Axes>"
      ]
     },
     "metadata": {
      "needs_background": "light"
     },
     "output_type": "display_data"
    }
   ],
   "source": [
    "# Define hyperparameters\n",
    "depth = 1\n",
    "lr = 0.01\n",
    "n_epochs = 20\n",
    "dim = 784\n",
    "nclass = 10\n",
    "batch_size = 64\n",
    "# Define widths\n",
    "widths = [4, 8, 16, 32, 64, 128, 256, 512, 1024]\n",
    "\n",
    "# Define data transforms\n",
    "transform = transforms.Compose([\n",
    "    transforms.ToTensor(),\n",
    "    transforms.Normalize((0.5,), (0.5,))\n",
    "])\n",
    "\n",
    "# Load datasets\n",
    "train_set = datasets.MNIST('./data', train=True, download=True, transform=transform)\n",
    "test_set = datasets.MNIST('./data', train=False, download=True, transform=transform)\n",
    "\n",
    "# Train and test the model for each width\n",
    "train_losses, test_losses = [], []\n",
    "print('Width\\tTrain loss\\tTest loss')\n",
    "for width in widths:\n",
    "    # Define model, criterion and optimizer\n",
    "    net = Net(dim, nclass, width, depth)\n",
    "    criterion = nn.CrossEntropyLoss()\n",
    "    optimizer = optim.SGD(net.parameters(), lr=lr)\n",
    "\n",
    "    # Load datasets\n",
    "    train_set = datasets.MNIST('./data', train=True, download=True, transform=transform)\n",
    "    test_set = datasets.MNIST('./data', train=False, download=True, transform=transform)\n",
    "    trainloader, testloader = loading_data(batch_size, train_set, test_set)\n",
    "\n",
    "    # Train and test the model\n",
    "    train_loss = train_epoch(trainloader, net, optimizer, criterion)\n",
    "    test_loss, test_err = test_epoch(testloader, net, criterion)\n",
    "    print(f'{width}\\t{train_loss:.4f}\\t\\t{test_loss:.4f}')\n",
    "    # Record train and test losses\n",
    "    train_losses.append(train_loss)\n",
    "    test_losses.append(test_loss)\n",
    "# Plot the train and test losses as a function of width\n",
    "labels = [str(x) for x in widths]\n",
    "plt.plot(widths, train_losses, label='train')\n",
    "plt.plot(widths, test_losses, label='test')\n",
    "plt.xscale('log')\n",
    "plt.title('Train and test losses as a function of width')\n",
    "plt.xticks(widths,labels)\n",
    "plt.xlabel('Width')\n",
    "plt.ylabel('Loss')\n",
    "plt.legend()\n",
    "plt.show()"
   ]
  },
  {
   "cell_type": "markdown",
   "id": "8e8711a8",
   "metadata": {},
   "source": [
    "From the table and plot, we can see that both train and test losses decrease as the width increases. However, after a certain point, increasing the width does not result in a significant improvement in the test loss. In this case, a width of 128 seems to be sufficient to achieve a low test loss.\n",
    "\n",
    "This observation is consistent with recent work that shows that increasing the number of parameters in a neural network can result in lower test errors, even if it means overfitting on the training data. This is due to the implicit bias of stochastic gradient descent, which can prevent overfitting and allow the network to generalize well to unseen data.\n",
    "\n",
    "In summary, increasing the width of a neural network can result in lower train and test losses, but there may be a point of diminishing returns where further increasing the width does not improve performance significantly. It is important to balance model complexity with generalization performance when choosing the width of a neural network."
   ]
  },
  {
   "cell_type": "markdown",
   "id": "2a3acdb9",
   "metadata": {},
   "source": [
    "# Part III: Extension to CIFAR10"
   ]
  },
  {
   "cell_type": "markdown",
   "id": "1c392a47",
   "metadata": {},
   "source": [
    "## Task 10: Test the performance on CIFAR10 "
   ]
  },
  {
   "cell_type": "code",
   "execution_count": 10,
   "id": "945ee518",
   "metadata": {},
   "outputs": [
    {
     "name": "stdout",
     "output_type": "stream",
     "text": [
      "Files already downloaded and verified\n",
      "Files already downloaded and verified\n",
      "[1,   782] loss: 2.295\n",
      "[2,   782] loss: 2.135\n",
      "[3,   782] loss: 1.917\n",
      "[4,   782] loss: 1.706\n",
      "[5,   782] loss: 1.567\n",
      "[6,   782] loss: 1.484\n",
      "[7,   782] loss: 1.423\n",
      "[8,   782] loss: 1.378\n",
      "[9,   782] loss: 1.337\n",
      "[10,   782] loss: 1.299\n",
      "Finished Training\n",
      "Accuracy of the network on the 10000 test images: 53 %\n"
     ]
    }
   ],
   "source": [
    "import torch\n",
    "import torchvision\n",
    "import torchvision.transforms as transforms\n",
    "import torch.nn as nn\n",
    "import torch.optim as optim\n",
    "\n",
    "# Define the transform to normalise the data\n",
    "transform = transforms.Compose(\n",
    "    [transforms.ToTensor(),\n",
    "     transforms.Normalize((0.5, 0.5, 0.5), (0.5, 0.5, 0.5))])\n",
    "\n",
    "# Load the CIFAR10 dataset\n",
    "trainset = torchvision.datasets.CIFAR10(root='./data', train=True,\n",
    "                                        download=True, transform=transform)\n",
    "trainloader = torch.utils.data.DataLoader(trainset, batch_size=64,\n",
    "                                          shuffle=True, num_workers=2)\n",
    "\n",
    "testset = torchvision.datasets.CIFAR10(root='./data', train=False,\n",
    "                                       download=True, transform=transform)\n",
    "testloader = torch.utils.data.DataLoader(testset, batch_size=64,\n",
    "                                         shuffle=False, num_workers=2)\n",
    "\n",
    "# Define the neural network architecture\n",
    "class Net(nn.Module):\n",
    "    def __init__(self):\n",
    "        super(Net, self).__init__()\n",
    "        self.conv1 = nn.Conv2d(3, 6, 5)\n",
    "        self.pool = nn.MaxPool2d(2, 2)\n",
    "        self.conv2 = nn.Conv2d(6, 16, 5)\n",
    "        self.fc1 = nn.Linear(16 * 5 * 5, 120)\n",
    "        self.fc2 = nn.Linear(120, 84)\n",
    "        self.fc3 = nn.Linear(84, 10)\n",
    "\n",
    "    def forward(self, x):\n",
    "        x = self.pool(nn.functional.relu(self.conv1(x)))\n",
    "        x = self.pool(nn.functional.relu(self.conv2(x)))\n",
    "        x = x.view(-1, 16 * 5 * 5)\n",
    "        x = nn.functional.relu(self.fc1(x))\n",
    "        x = nn.functional.relu(self.fc2(x))\n",
    "        x = self.fc3(x)\n",
    "        return x\n",
    "\n",
    "net = Net()\n",
    "\n",
    "# Define the loss function and optimiser\n",
    "criterion = nn.CrossEntropyLoss()\n",
    "optimizer = optim.SGD(net.parameters(), lr=0.001, momentum=0.9)\n",
    "\n",
    "# Train the network\n",
    "for epoch in range(10):\n",
    "    running_loss = 0.0\n",
    "    for i, data in enumerate(trainloader, 0):\n",
    "        inputs, labels = data\n",
    "        optimizer.zero_grad()\n",
    "        outputs = net(inputs)\n",
    "        loss = criterion(outputs, labels)\n",
    "        loss.backward()\n",
    "        optimizer.step()\n",
    "        running_loss += loss.item()\n",
    "    print('[%d, %5d] loss: %.3f' %\n",
    "          (epoch + 1, i + 1, running_loss / len(trainloader)))\n",
    "\n",
    "print('Finished Training')\n",
    "\n",
    "# Test the network\n",
    "correct = 0\n",
    "total = 0\n",
    "with torch.no_grad():\n",
    "    for data in testloader:\n",
    "        images, labels = data\n",
    "        outputs = net(images)\n",
    "        _, predicted = torch.max(outputs.data, 1)\n",
    "        total += labels.size(0)\n",
    "        correct += (predicted == labels).sum().item()\n",
    "\n",
    "print('Accuracy of the network on the 10000 test images: %d %%' % (\n",
    "    100 * correct / total))\n"
   ]
  },
  {
   "attachments": {},
   "cell_type": "markdown",
   "id": "27f5f34d",
   "metadata": {},
   "source": [
    "In general, MNIST is considered to be an easier task for fully-connected neural networks compared to CIFAR10. This is because MNIST consists of grayscale images of size 28x28 with a single digit in the center, which has a much simpler and structured visual pattern compared to CIFAR10, which consists of color images of size 32x32 with 10 different object classes, each with much more complex and varied visual patterns.\n",
    "\n",
    "Additionally, MNIST has a much larger number of training examples (60,000) compared to CIFAR10 (50,000), which also makes it easier to learn."
   ]
  }
 ],
 "metadata": {
  "kernelspec": {
   "display_name": "Python 3",
   "language": "python",
   "name": "python3"
  },
  "language_info": {
   "codemirror_mode": {
    "name": "ipython",
    "version": 3
   },
   "file_extension": ".py",
   "mimetype": "text/x-python",
   "name": "python",
   "nbconvert_exporter": "python",
   "pygments_lexer": "ipython3",
   "version": "3.8.8"
  }
 },
 "nbformat": 4,
 "nbformat_minor": 5
}
